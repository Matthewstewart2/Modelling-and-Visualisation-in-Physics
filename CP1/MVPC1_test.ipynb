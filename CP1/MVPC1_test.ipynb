{
 "cells": [
  {
   "cell_type": "code",
   "execution_count": 2,
   "id": "39f8d858",
   "metadata": {},
   "outputs": [],
   "source": [
    "import numpy as np"
   ]
  },
  {
   "cell_type": "code",
   "execution_count": 10,
   "id": "1d7b21a9",
   "metadata": {},
   "outputs": [],
   "source": [
    "l1 = np.array([1, 2, 3])\n",
    "l2 = l1 + 10\n",
    "l3 = l1 + 100"
   ]
  },
  {
   "cell_type": "code",
   "execution_count": 12,
   "id": "f7f3bff3",
   "metadata": {},
   "outputs": [
    {
     "data": {
      "text/plain": [
       "array([[  1,  11, 101],\n",
       "       [  2,  12, 102],\n",
       "       [  3,  13, 103]])"
      ]
     },
     "execution_count": 12,
     "metadata": {},
     "output_type": "execute_result"
    }
   ],
   "source": [
    "csvdata = np.array([l1, l2, l3])\n",
    "csvdata.T"
   ]
  },
  {
   "cell_type": "code",
   "execution_count": null,
   "id": "96edc992",
   "metadata": {},
   "outputs": [],
   "source": []
  }
 ],
 "metadata": {
  "kernelspec": {
   "display_name": "Python 3 (ipykernel)",
   "language": "python",
   "name": "python3"
  },
  "language_info": {
   "codemirror_mode": {
    "name": "ipython",
    "version": 3
   },
   "file_extension": ".py",
   "mimetype": "text/x-python",
   "name": "python",
   "nbconvert_exporter": "python",
   "pygments_lexer": "ipython3",
   "version": "3.7.11"
  }
 },
 "nbformat": 4,
 "nbformat_minor": 5
}
