{
 "cells": [
  {
   "cell_type": "code",
   "execution_count": 1,
   "id": "db72bc62",
   "metadata": {},
   "outputs": [],
   "source": [
    "import numpy as np\n",
    "import matplotlib.pyplot as plt"
   ]
  },
  {
   "cell_type": "code",
   "execution_count": 9,
   "id": "d222a906",
   "metadata": {},
   "outputs": [],
   "source": [
    "a = np.array([[1, 2],\n",
    "              [3, 4]])\n",
    "b = np.array([[0, 10],\n",
    "              [30, 0.5]])\n",
    "c = np.array([[2, 10],\n",
    "              [30, 0.5]])"
   ]
  },
  {
   "cell_type": "code",
   "execution_count": 13,
   "id": "98e5708b",
   "metadata": {},
   "outputs": [],
   "source": [
    "N = 5"
   ]
  },
  {
   "cell_type": "code",
   "execution_count": 17,
   "id": "1b549cf7",
   "metadata": {},
   "outputs": [],
   "source": [
    "lista = [1,2,3]"
   ]
  },
  {
   "cell_type": "code",
   "execution_count": 18,
   "id": "867d4bd9",
   "metadata": {},
   "outputs": [
    {
     "data": {
      "text/plain": [
       "[0, 1, 2]"
      ]
     },
     "execution_count": 18,
     "metadata": {},
     "output_type": "execute_result"
    }
   ],
   "source": [
    "list(range(len(lista)))"
   ]
  },
  {
   "cell_type": "code",
   "execution_count": 15,
   "id": "bc5ab504",
   "metadata": {},
   "outputs": [
    {
     "data": {
      "text/plain": [
       "array([[0.2868158 , 0.15742731, 0.03077014, 0.29066189, 0.15031672],\n",
       "       [0.33246627, 0.26073845, 0.18177789, 0.29639866, 0.31937233],\n",
       "       [0.08192324, 0.13749837, 0.08756646, 0.02990284, 0.17102602],\n",
       "       [0.05786461, 0.03237102, 0.13670876, 0.00670404, 0.32370164],\n",
       "       [0.13100032, 0.07467518, 0.25730127, 0.16631869, 0.30438673]])"
      ]
     },
     "execution_count": 15,
     "metadata": {},
     "output_type": "execute_result"
    }
   ],
   "source": [
    "a_start = np.random.uniform(0., 1./3, (N,N))\n",
    "a_start"
   ]
  },
  {
   "cell_type": "code",
   "execution_count": 20,
   "id": "33ad7430",
   "metadata": {},
   "outputs": [],
   "source": [
    "twodarray = np.random.rand(N, N)"
   ]
  },
  {
   "cell_type": "code",
   "execution_count": 21,
   "id": "a036f2da",
   "metadata": {},
   "outputs": [
    {
     "data": {
      "text/plain": [
       "array([[0.74192209, 0.15748012, 0.63048165, 0.20545564, 0.00583985],\n",
       "       [0.04904354, 0.04497741, 0.40219452, 0.34259192, 0.73615925],\n",
       "       [0.41047695, 0.89172145, 0.59564962, 0.98378194, 0.61426813],\n",
       "       [0.38582867, 0.03112   , 0.27203655, 0.40219424, 0.90569743],\n",
       "       [0.07845214, 0.91354504, 0.3600088 , 0.78866275, 0.60526292]])"
      ]
     },
     "execution_count": 21,
     "metadata": {},
     "output_type": "execute_result"
    }
   ],
   "source": [
    "twodarray"
   ]
  },
  {
   "cell_type": "code",
   "execution_count": 22,
   "id": "0f140187",
   "metadata": {},
   "outputs": [
    {
     "data": {
      "text/plain": [
       "array([[0.04904354, 0.04497741, 0.40219452, 0.34259192, 0.73615925],\n",
       "       [0.41047695, 0.89172145, 0.59564962, 0.98378194, 0.61426813],\n",
       "       [0.38582867, 0.03112   , 0.27203655, 0.40219424, 0.90569743],\n",
       "       [0.07845214, 0.91354504, 0.3600088 , 0.78866275, 0.60526292],\n",
       "       [0.74192209, 0.15748012, 0.63048165, 0.20545564, 0.00583985]])"
      ]
     },
     "execution_count": 22,
     "metadata": {},
     "output_type": "execute_result"
    }
   ],
   "source": [
    "np.roll(twodarray, -1, axis=0)"
   ]
  },
  {
   "cell_type": "code",
   "execution_count": 23,
   "id": "4aefe0de",
   "metadata": {},
   "outputs": [
    {
     "data": {
      "text/plain": [
       "array([[0.74192209, 0.15748012, 0.63048165, 0.20545564, 0.00583985],\n",
       "       [0.04904354, 0.04497741, 0.40219452, 0.34259192, 0.73615925],\n",
       "       [0.41047695, 0.89172145, 0.59564962, 0.98378194, 0.61426813],\n",
       "       [0.38582867, 0.03112   , 0.27203655, 0.40219424, 0.90569743],\n",
       "       [0.07845214, 0.91354504, 0.3600088 , 0.78866275, 0.60526292]])"
      ]
     },
     "execution_count": 23,
     "metadata": {},
     "output_type": "execute_result"
    }
   ],
   "source": [
    "twodarray"
   ]
  }
 ],
 "metadata": {
  "kernelspec": {
   "display_name": "Python 3 (ipykernel)",
   "language": "python",
   "name": "python3"
  },
  "language_info": {
   "codemirror_mode": {
    "name": "ipython",
    "version": 3
   },
   "file_extension": ".py",
   "mimetype": "text/x-python",
   "name": "python",
   "nbconvert_exporter": "python",
   "pygments_lexer": "ipython3",
   "version": "3.7.11"
  }
 },
 "nbformat": 4,
 "nbformat_minor": 5
}
